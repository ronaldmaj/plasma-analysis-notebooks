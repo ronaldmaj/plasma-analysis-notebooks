{
 "cells": [
  {
   "cell_type": "markdown",
   "metadata": {},
   "source": [
    "In this notebook, we will take the csv files 1.csv to 11.csv and conduct removal of bad data:"
   ]
  },
  {
   "cell_type": "code",
   "execution_count": 3,
   "metadata": {},
   "outputs": [],
   "source": [
    "%matplotlib inline\n",
    "import pandas as pd\n",
    "import numpy as np\n",
    "import matplotlib.pyplot as plt\n",
    "import seaborn as sns\n",
    "from sklearn import preprocessing\n",
    "from scipy import stats\n",
    "from scipy.signal import find_peaks\n",
    "import os\n",
    "\n",
    "adj_file_list = [i for i in range(1,12)]\n",
    "\n",
    "org_files = []\n",
    "\n",
    "for num in adj_file_list:\n",
    "    for root, dirs, files in os.walk(\".\", topdown=True):\n",
    "        for file in files:\n",
    "            if file.startswith(str(num)+\"_csv_data.csv\"):\n",
    "                 org_files.append(os.path.join(root, file))"
   ]
  },
  {
   "cell_type": "code",
   "execution_count": 4,
   "metadata": {},
   "outputs": [
    {
     "data": {
      "text/plain": [
       "['.\\\\1_csv_data.csv',\n",
       " '.\\\\2_csv_data.csv',\n",
       " '.\\\\3_csv_data.csv',\n",
       " '.\\\\4_csv_data.csv',\n",
       " '.\\\\5_csv_data.csv',\n",
       " '.\\\\6_csv_data.csv',\n",
       " '.\\\\7_csv_data.csv',\n",
       " '.\\\\8_csv_data.csv',\n",
       " '.\\\\9_csv_data.csv',\n",
       " '.\\\\10_csv_data.csv',\n",
       " '.\\\\11_csv_data.csv']"
      ]
     },
     "execution_count": 4,
     "metadata": {},
     "output_type": "execute_result"
    }
   ],
   "source": [
    "org_files"
   ]
  },
  {
   "cell_type": "code",
   "execution_count": 5,
   "metadata": {},
   "outputs": [],
   "source": [
    "for f_name in org_files:\n",
    "    df = pd.read_csv(f_name,header=None)\n",
    "    df.columns = ['x','y']\n",
    "    df = df.drop(df[(df.x < 0) | (df.x > 20)].index)\n",
    "    df.to_csv(f_name,header=False,index=False)"
   ]
  },
  {
   "cell_type": "code",
   "execution_count": null,
   "metadata": {},
   "outputs": [],
   "source": []
  }
 ],
 "metadata": {
  "kernelspec": {
   "display_name": "Python 3",
   "language": "python",
   "name": "python3"
  },
  "language_info": {
   "codemirror_mode": {
    "name": "ipython",
    "version": 3
   },
   "file_extension": ".py",
   "mimetype": "text/x-python",
   "name": "python",
   "nbconvert_exporter": "python",
   "pygments_lexer": "ipython3",
   "version": "3.6.4"
  }
 },
 "nbformat": 4,
 "nbformat_minor": 2
}
